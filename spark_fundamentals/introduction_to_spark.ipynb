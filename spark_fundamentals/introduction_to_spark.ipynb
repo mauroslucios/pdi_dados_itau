{
 "cells": [
  {
   "cell_type": "markdown",
   "metadata": {},
   "source": [
    "# Introduction to spark \n",
    "<a href=\"https://spark.apache.org/docs/latest/quick-start.html\">Spark Documentation</a>"
   ]
  },
  {
   "cell_type": "code",
   "execution_count": 187,
   "metadata": {},
   "outputs": [
    {
     "name": "stdout",
     "output_type": "stream",
     "text": [
      "Versão do pyspark usada neste jupyter: 3.5.4\n",
      "Versão do python usada neste jupyter: 3.11.5 (main, Sep 11 2023, 13:54:46) [GCC 11.2.0]\n"
     ]
    }
   ],
   "source": [
    "import sys\n",
    "import pandas as pd\n",
    "from pyspark.sql import functions as sf\n",
    "from pyspark.sql.types import StructType, StructField, StringType, IntegerType, DecimalType, TimestampType\n",
    "from decimal import Decimal\n",
    "from datetime import datetime\n",
    "from pyspark.sql import functions as sf\n",
    "from pyspark import SparkContext\n",
    "# Create a SparkContext object\n",
    "from pyspark.sql import SparkSession\n",
    "spark = SparkSession.builder.appName(\"Introduction to spark\").getOrCreate()\n",
    "# Versão do pyspark usada neste jupyter\n",
    "print(f\"Versão do pyspark usada neste jupyter: {spark.version}\")\n",
    "# Versão do python usada neste jupyter\n",
    "print(f\"Versão do python usada neste jupyter: {sys.version}\")"
   ]
  },
  {
   "cell_type": "code",
   "execution_count": 188,
   "metadata": {},
   "outputs": [
    {
     "name": "stdout",
     "output_type": "stream",
     "text": [
      "+----------------+-------------------+-----+-----------------+--------------------+-------------+----------+--------+------+------+\n",
      "|            nome|          sobrenome|idade|           e-mail|                 Rua|       Bairro|    Cidade|     Cep|Estado|  Pais|\n",
      "+----------------+-------------------+-----+-----------------+--------------------+-------------+----------+--------+------+------+\n",
      "|     mauro lucio|   pereira da silva|   55|  mauro@email.com|Rua Leila Diniz, 798|Independencia|Petropolis|25645410|    RJ|Brasil|\n",
      "|  ethelyn helena|c. pereira da silva|   19|ethelyn@email.com|Estr. Luis Gomes ...|      Correas|Petropolis|25720020|    RJ|Brasil|\n",
      "|          evelin|c. pereira da silva|   15| evelin@email.com|Estr. Luis Gomes ...|      Correas|Petropolis|25720020|    RJ|Brasil|\n",
      "|everton cristian|c. pereira da silva|   22|everton@email.com|Estr. Luis Gomes ...|      Correas|Petropolis|25720020|    RJ|Brasil|\n",
      "|andreia cristina|          de moares|   29|andreia@email.com|Estr. Luis Gomes ...|      Correas|Petropolis|25720020|    RJ|Brasil|\n",
      "+----------------+-------------------+-----+-----------------+--------------------+-------------+----------+--------+------+------+\n",
      "\n"
     ]
    }
   ],
   "source": [
    "# Dados criando um array de dados\n",
    "dados = [\n",
    "    (\"mauro lucio\", \"pereira da silva\",55, \"mauro@email.com\",\"Rua Leila Diniz, 798\",\"Independencia\",\"Petropolis\",\"25645410\",\"RJ\",\"Brasil\"),\n",
    "    (\"ethelyn helena\", \"c. pereira da silva\", 19, \"ethelyn@email.com\",\"Estr. Luis Gomes da Silva, 714\",\"Correas\",\"Petropolis\",\"25720020\",\"RJ\",\"Brasil\"),\n",
    "    (\"evelin\", \"c. pereira da silva\", 15, \"evelin@email.com\",\"Estr. Luis Gomes da Silva, 714\",\"Correas\",\"Petropolis\",\"25720020\",\"RJ\",\"Brasil\"),\n",
    "    (\"everton cristian\",  \"c. pereira da silva\", 22, \"everton@email.com\",\"Estr. Luis Gomes da Silva, 714\",\"Correas\",\"Petropolis\",\"25720020\",\"RJ\",\"Brasil\"),\n",
    "    (\"andreia cristina\",  \"de moares\", 29, \"andreia@email.com\",\"Estr. Luis Gomes da Silva, 714\",\"Correas\",\"Petropolis\",\"25720020\",\"RJ\",\"Brasil\"),\n",
    "]\n",
    "\n",
    "# Definição do Schema\n",
    "schema = StructType([\n",
    "    StructField(\"nome\", StringType(), False),\n",
    "    StructField(\"sobrenome\", StringType(), False),\n",
    "    StructField(\"idade\",IntegerType(), False),\n",
    "    StructField(\"e-mail\", StringType(), False),\n",
    "    StructField(\"Rua\", StringType(), False),\n",
    "    StructField(\"Bairro\",StringType(), False),\n",
    "    StructField(\"Cidade\",StringType(), False),\n",
    "    StructField(\"Cep\",StringType(), False),\n",
    "    StructField(\"Estado\",StringType(), False),\n",
    "    StructField(\"Pais\",StringType(), False)\n",
    "])\n",
    "\n",
    "# Criando um DataFrame com o arry de dados\n",
    "df = spark.createDataFrame(dados,schema)\n",
    "\n",
    "# Mostrando o DataFrame\n",
    "df.show()"
   ]
  },
  {
   "cell_type": "code",
   "execution_count": 189,
   "metadata": {},
   "outputs": [
    {
     "name": "stdout",
     "output_type": "stream",
     "text": [
      "+-----------+----------------+-----+---------------+--------------------+-------------+----------+--------+------+------+\n",
      "|       nome|       sobrenome|idade|         e-mail|                 Rua|       Bairro|    Cidade|     Cep|Estado|  Pais|\n",
      "+-----------+----------------+-----+---------------+--------------------+-------------+----------+--------+------+------+\n",
      "|mauro lucio|pereira da silva|   55|mauro@email.com|Rua Leila Diniz, 798|Independencia|Petropolis|25645410|    RJ|Brasil|\n",
      "+-----------+----------------+-----+---------------+--------------------+-------------+----------+--------+------+------+\n",
      "\n"
     ]
    }
   ],
   "source": [
    "# Filtrando colunas\n",
    "filtered_df = df.filter(df['nome'] == \"mauro lucio\")\n",
    "filtered_df.show()"
   ]
  },
  {
   "cell_type": "code",
   "execution_count": 190,
   "metadata": {},
   "outputs": [
    {
     "name": "stdout",
     "output_type": "stream",
     "text": [
      "+----------------+----------+\n",
      "|            nome|avg(idade)|\n",
      "+----------------+----------+\n",
      "|     mauro lucio|      55.0|\n",
      "|  ethelyn helena|      19.0|\n",
      "|          evelin|      15.0|\n",
      "|andreia cristina|      29.0|\n",
      "|everton cristian|      22.0|\n",
      "+----------------+----------+\n",
      "\n"
     ]
    }
   ],
   "source": [
    "# Agrupar e calcular a média agregada\n",
    "grouped_df = df.groupBy(\"nome\").agg({\"idade\":\"avg\"})\n",
    "grouped_df.show()"
   ]
  },
  {
   "cell_type": "code",
   "execution_count": 193,
   "metadata": {},
   "outputs": [
    {
     "name": "stdout",
     "output_type": "stream",
     "text": [
      "Número de registros do DataFame: 5\n"
     ]
    }
   ],
   "source": [
    "# Número de registros do DataFrame\n",
    "print(f'Número de registros do DataFame: {df.count()}')"
   ]
  },
  {
   "cell_type": "code",
   "execution_count": 176,
   "metadata": {},
   "outputs": [
    {
     "data": {
      "text/plain": [
       "Row(nome='mauro lucio', sobrenome='pereira da silva', idade=55, e-mail='mauro@email.com', Rua='Rua Leila Diniz, 798', Bairro='Independencia', Cidade='Petropolis', Cep='25645410', Estado='RJ', Pais='Brasil')"
      ]
     },
     "execution_count": 176,
     "metadata": {},
     "output_type": "execute_result"
    }
   ],
   "source": [
    "# Primeira linha do DataFrame\n",
    "df.first()"
   ]
  },
  {
   "cell_type": "code",
   "execution_count": 177,
   "metadata": {},
   "outputs": [
    {
     "name": "stdout",
     "output_type": "stream",
     "text": [
      "+----------------+-------------------+-----+-----------------+--------------------+-------------+----------+--------+------+------+\n",
      "|            nome|          sobrenome|idade|           e-mail|                 Rua|       Bairro|    Cidade|     Cep|Estado|  Pais|\n",
      "+----------------+-------------------+-----+-----------------+--------------------+-------------+----------+--------+------+------+\n",
      "|     mauro lucio|   pereira da silva|   55|  mauro@email.com|Rua Leila Diniz, 798|Independencia|Petropolis|25645410|    RJ|Brasil|\n",
      "|  ethelyn helena|c. pereira da silva|   19|ethelyn@email.com|Estr. Luis Gomes ...|      Correas|Petropolis|25720020|    RJ|Brasil|\n",
      "|          evelin|c. pereira da silva|   15| evelin@email.com|Estr. Luis Gomes ...|      Correas|Petropolis|25720020|    RJ|Brasil|\n",
      "|everton cristian|c. pereira da silva|   22|everton@email.com|Estr. Luis Gomes ...|      Correas|Petropolis|25720020|    RJ|Brasil|\n",
      "+----------------+-------------------+-----+-----------------+--------------------+-------------+----------+--------+------+------+\n",
      "\n"
     ]
    }
   ],
   "source": [
    "# Filtrando onde tem uma palavra\n",
    "linesWithSpark = df.filter(df[\"sobrenome\"].contains(\"pereira\"))\n",
    "linesWithSpark.show()"
   ]
  },
  {
   "cell_type": "code",
   "execution_count": 178,
   "metadata": {},
   "outputs": [
    {
     "name": "stdout",
     "output_type": "stream",
     "text": [
      "O número de ocorrências encontradas foram: 4\n"
     ]
    }
   ],
   "source": [
    "# Contando o núemro de ocorrências de uma palavra\n",
    "countText= df.filter(df[\"sobrenome\"].contains(\"pereira\")).count()\n",
    "print(f\"O número de ocorrências encontradas foram: {countText}\")"
   ]
  },
  {
   "cell_type": "code",
   "execution_count": 179,
   "metadata": {},
   "outputs": [
    {
     "name": "stderr",
     "output_type": "stream",
     "text": [
      "                                                                                "
     ]
    },
    {
     "data": {
      "text/plain": [
       "[Row(max(numWords)=4)]"
      ]
     },
     "execution_count": 179,
     "metadata": {},
     "output_type": "execute_result"
    }
   ],
   "source": [
    "# Encontrar a linha com mais palavras\n",
    "# df.select(sf.size(sf.split(df.value,\"\\s+\")).name(\"numWords\")).agg(sf.max(sf.col(\"numWords\"))).collect()\n",
    "\n",
    "# Encontrar a linha com mais palavras na coluna 'sobrenome'\n",
    "df.select(sf.size(sf.split(df[\"sobrenome\"], \"\\s+\")).alias(\"numWords\")).agg(sf.max(sf.col(\"numWords\"))).collect()"
   ]
  },
  {
   "cell_type": "code",
   "execution_count": 180,
   "metadata": {},
   "outputs": [],
   "source": [
    "# DataFrame customer\n",
    "customer_data = [(\n",
    "    1,\n",
    "    \"ruan jose\",\n",
    "    datetime(1965, 10, 15, 00, 00, 00),\n",
    "    \"ruan_jose@gmail.com\",\n",
    "    datetime(2025, 3, 2, 17, 10, 00),\n",
    ")]"
   ]
  },
  {
   "cell_type": "code",
   "execution_count": 181,
   "metadata": {},
   "outputs": [],
   "source": [
    "schema_customer = StructType([\n",
    "    StructField(\"customer_id\", IntegerType(), False),\n",
    "    StructField(\"name\", StringType(), False),\n",
    "    StructField(\"customer_birthday\", TimestampType(), False),\n",
    "    StructField(\"email\", StringType(), False),\n",
    "    StructField(\"created_at\", TimestampType(), False)\n",
    "])"
   ]
  },
  {
   "cell_type": "code",
   "execution_count": 182,
   "metadata": {},
   "outputs": [
    {
     "name": "stdout",
     "output_type": "stream",
     "text": [
      "+-----------+---------+-------------------+-------------------+-------------------+\n",
      "|customer_id|name     |customer_birthday  |email              |created_at         |\n",
      "+-----------+---------+-------------------+-------------------+-------------------+\n",
      "|1          |ruan jose|1965-10-15 00:00:00|ruan_jose@gmail.com|2025-03-02 17:10:00|\n",
      "+-----------+---------+-------------------+-------------------+-------------------+\n",
      "\n",
      "root\n",
      " |-- customer_id: integer (nullable = true)\n",
      " |-- name: string (nullable = true)\n",
      " |-- customer_birthday: timestamp (nullable = true)\n",
      " |-- email: string (nullable = true)\n",
      " |-- created_at: timestamp (nullable = true)\n",
      "\n"
     ]
    }
   ],
   "source": [
    "# Criando DataFrame com array de dados\n",
    "df_customers = spark.createDataFrame(customer_data, schema_customer)\n",
    "# Convertendo strings de data/hora para TimestampType\n",
    "df_customer = df_customers.withColumn(\"created_at\", sf.to_timestamp(\"created_at\", \"dd-MM-yyyy HH:mm:ss\"))\n",
    "df_customer = df_customers.withColumn(\"customer_birthday\", sf.to_timestamp(\"customer_birthday\", \"dd-MM-yyyy HH:mm:ss\"))\n",
    "# Mostrando o DataFrame\n",
    "df_customers.show(truncate=False)\n",
    "df_customer.printSchema()"
   ]
  },
  {
   "cell_type": "code",
   "execution_count": 184,
   "metadata": {},
   "outputs": [],
   "source": [
    "# DataFrame sales data\n",
    "sales_data =[(1, 1,1,10, Decimal(\"125.00\"), datetime(2025, 2, 27, 10, 25, 0),\"delivered\")]"
   ]
  },
  {
   "cell_type": "code",
   "execution_count": 185,
   "metadata": {},
   "outputs": [],
   "source": [
    "# Schema\n",
    "schema_sales = StructType([\n",
    "    StructField(\"sale_id\", IntegerType(), False),\n",
    "    StructField(\"order_id\", IntegerType(), False),\n",
    "    StructField(\"item_id\", IntegerType(), False), \n",
    "    StructField(\"quantity\", IntegerType(), False),\n",
    "    StructField(\"unit_price\", DecimalType(10,2), False),\n",
    "    StructField(\"date_sale\", TimestampType(), False),\n",
    "    StructField(\"status\", StringType(), False)\n",
    "])"
   ]
  },
  {
   "cell_type": "code",
   "execution_count": 186,
   "metadata": {},
   "outputs": [
    {
     "name": "stdout",
     "output_type": "stream",
     "text": [
      "+-------+--------+-------+--------+----------+-------------------+---------+\n",
      "|sale_id|order_id|item_id|quantity|unit_price|date_sale          |status   |\n",
      "+-------+--------+-------+--------+----------+-------------------+---------+\n",
      "|1      |1       |1      |10      |125.00    |2025-02-27 10:25:00|delivered|\n",
      "+-------+--------+-------+--------+----------+-------------------+---------+\n",
      "\n",
      "root\n",
      " |-- sale_id: integer (nullable = true)\n",
      " |-- order_id: integer (nullable = true)\n",
      " |-- item_id: integer (nullable = true)\n",
      " |-- quantity: integer (nullable = true)\n",
      " |-- unit_price: decimal(10,2) (nullable = true)\n",
      " |-- date_sale: timestamp (nullable = true)\n",
      " |-- status: string (nullable = true)\n",
      "\n"
     ]
    }
   ],
   "source": [
    "# Criando um DataFrame com o array de dados\n",
    "df_sales = spark.createDataFrame(sales_data,schema_sales)\n",
    "# Convertendo strings de data/hora para TimestampType\n",
    "df_sale = df_sales.withColumn(\"date_sale\", sf.to_timestamp(\"date_sale\", \"dd-MM-yyyy HH:mm:ss\") )\n",
    "# Mostrando o DataFrame\n",
    "df_sales.show(truncate=False)\n",
    "df_sale.printSchema()"
   ]
  },
  {
   "cell_type": "code",
   "execution_count": 201,
   "metadata": {},
   "outputs": [
    {
     "ename": "SyntaxError",
     "evalue": "closing parenthesis ']' does not match opening parenthesis '(' (823963226.py, line 2)",
     "output_type": "error",
     "traceback": [
      "\u001b[0;36m  Cell \u001b[0;32mIn[201], line 2\u001b[0;36m\u001b[0m\n\u001b[0;31m    products_data = [(1,\"notebook sony vaio 15 fz\",\"Notebook VAIO® FE15 Intel® Core™\", Decimal(\"3.799\"), 38, datetime(2025, 3, 2, 21, 38, 0)]\u001b[0m\n\u001b[0m                                                                                                                                            ^\u001b[0m\n\u001b[0;31mSyntaxError\u001b[0m\u001b[0;31m:\u001b[0m closing parenthesis ']' does not match opening parenthesis '('\n"
     ]
    }
   ],
   "source": [
    "# Criando dados do DataFrame\n",
    "products_data = [(1,\"notebook sony vaio 15 fz\",\"Notebook VAIO® FE15 Intel® Core™\", Decimal(\"3.799\"), 38, datetime(2025, 3, 2, 21, 38, 0))]"
   ]
  },
  {
   "cell_type": "code",
   "execution_count": 196,
   "metadata": {},
   "outputs": [],
   "source": [
    "# Criando DataFrame de itens\n",
    "schema_products = StructType([\n",
    "   StructField(\"product_id\", IntegerType(), False),\n",
    "   StructField(\"name\", StringType(), False),\n",
    "   StructField(\"description\", StringType(),False),\n",
    "   StructField(\"price\", DecimalType(10,2), False),\n",
    "   StructField(\"stock\", IntegerType(), False),\n",
    "   StructField(\"created_at\", TimestampType(), False)  \n",
    "])"
   ]
  },
  {
   "cell_type": "code",
   "execution_count": 197,
   "metadata": {},
   "outputs": [
    {
     "ename": "NameError",
     "evalue": "name 'products_data' is not defined",
     "output_type": "error",
     "traceback": [
      "\u001b[0;31m---------------------------------------------------------------------------\u001b[0m",
      "\u001b[0;31mNameError\u001b[0m                                 Traceback (most recent call last)",
      "Cell \u001b[0;32mIn[197], line 2\u001b[0m\n\u001b[1;32m      1\u001b[0m \u001b[38;5;66;03m# Criando um DataFrame com array de dados\u001b[39;00m\n\u001b[0;32m----> 2\u001b[0m df_products \u001b[38;5;241m=\u001b[39m spark\u001b[38;5;241m.\u001b[39mcreateDataFrame(products_data, schema_products)\n\u001b[1;32m      3\u001b[0m \u001b[38;5;66;03m# Convertendo strings de data/hora para TimestampType\u001b[39;00m\n\u001b[1;32m      4\u001b[0m df_product \u001b[38;5;241m=\u001b[39m df_products\u001b[38;5;241m.\u001b[39mwithColumn(\u001b[38;5;124m\"\u001b[39m\u001b[38;5;124mcreated_at\u001b[39m\u001b[38;5;124m\"\u001b[39m, sf\u001b[38;5;241m.\u001b[39mto_timestamp(\u001b[38;5;124m\"\u001b[39m\u001b[38;5;124mcreated_at\u001b[39m\u001b[38;5;124m\"\u001b[39m, \u001b[38;5;124m\"\u001b[39m\u001b[38;5;124mdd-MM-yyyy HH:mm:ss\u001b[39m\u001b[38;5;124m\"\u001b[39m) )\n",
      "\u001b[0;31mNameError\u001b[0m: name 'products_data' is not defined"
     ]
    }
   ],
   "source": [
    "# Criando um DataFrame com array de dados\n",
    "df_products = spark.createDataFrame(products_data, schema_products)\n",
    "# Convertendo strings de data/hora para TimestampType\n",
    "df_product = df_products.withColumn(\"created_at\", sf.to_timestamp(\"created_at\", \"dd-MM-yyyy HH:mm:ss\") )\n",
    "# Mostrando o DataFrame\n",
    "df_products.show(truncate=False)\n",
    "df_product.printSchema()"
   ]
  },
  {
   "cell_type": "code",
   "execution_count": null,
   "metadata": {},
   "outputs": [],
   "source": []
  }
 ],
 "metadata": {
  "kernelspec": {
   "display_name": "Python 3 (ipykernel)",
   "language": "python",
   "name": "python3"
  },
  "language_info": {
   "codemirror_mode": {
    "name": "ipython",
    "version": 3
   },
   "file_extension": ".py",
   "mimetype": "text/x-python",
   "name": "python",
   "nbconvert_exporter": "python",
   "pygments_lexer": "ipython3",
   "version": "3.11.5"
  }
 },
 "nbformat": 4,
 "nbformat_minor": 4
}
