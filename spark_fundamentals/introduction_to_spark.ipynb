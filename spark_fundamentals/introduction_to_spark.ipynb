{
 "cells": [
  {
   "cell_type": "markdown",
   "metadata": {},
   "source": [
    "# Introduction to spark \n",
    "<a href=\"https://spark.apache.org/docs/latest/quick-start.html\">Spark Documentation</a>"
   ]
  },
  {
   "cell_type": "code",
   "execution_count": 246,
   "metadata": {},
   "outputs": [
    {
     "name": "stdout",
     "output_type": "stream",
     "text": [
      "Versão do pyspark usada neste jupyter: 3.5.4\n",
      "Versão do python usada neste jupyter: 3.11.5 (main, Sep 11 2023, 13:54:46) [GCC 11.2.0]\n"
     ]
    }
   ],
   "source": [
    "import sys\n",
    "import pandas as pd\n",
    "from pyspark.sql import functions as sf\n",
    "from pyspark.sql.functions import col, when\n",
    "from pyspark.sql.types import StructType, StructField, StringType, IntegerType, DecimalType, TimestampType\n",
    "from decimal import Decimal\n",
    "from datetime import datetime\n",
    "from pyspark.sql import functions as sf\n",
    "from pyspark import SparkContext\n",
    "# Create a SparkContext object\n",
    "from pyspark.sql import SparkSession\n",
    "spark = SparkSession.builder.appName(\"Introduction to spark\").getOrCreate()\n",
    "# Versão do pyspark usada neste jupyter\n",
    "print(f\"Versão do pyspark usada neste jupyter: {spark.version}\")\n",
    "# Versão do python usada neste jupyter\n",
    "print(f\"Versão do python usada neste jupyter: {sys.version}\")"
   ]
  },
  {
   "cell_type": "code",
   "execution_count": 225,
   "metadata": {},
   "outputs": [
    {
     "name": "stdout",
     "output_type": "stream",
     "text": [
      "+----------------+-------------------+-----+-----------------+--------------------+-------------+----------+--------+------+------+\n",
      "|            nome|          sobrenome|idade|           e-mail|                 Rua|       Bairro|    Cidade|     Cep|Estado|  Pais|\n",
      "+----------------+-------------------+-----+-----------------+--------------------+-------------+----------+--------+------+------+\n",
      "|     mauro lucio|   pereira da silva|   55|  mauro@email.com|Rua Leila Diniz, 798|Independencia|Petropolis|25645410|    RJ|Brasil|\n",
      "|  ethelyn helena|c. pereira da silva|   19|ethelyn@email.com|Estr. Luis Gomes ...|      Correas|Petropolis|25720020|    RJ|Brasil|\n",
      "|          evelin|c. pereira da silva|   15| evelin@email.com|Estr. Luis Gomes ...|      Correas|Petropolis|25720020|    RJ|Brasil|\n",
      "|everton cristian|c. pereira da silva|   22|everton@email.com|Estr. Luis Gomes ...|      Correas|Petropolis|25720020|    RJ|Brasil|\n",
      "|andreia cristina|          de moares|   29|andreia@email.com|Estr. Luis Gomes ...|      Correas|Petropolis|25720020|    RJ|Brasil|\n",
      "+----------------+-------------------+-----+-----------------+--------------------+-------------+----------+--------+------+------+\n",
      "\n"
     ]
    }
   ],
   "source": [
    "# Dados criando um array de dados\n",
    "dados = [\n",
    "    (\"mauro lucio\", \"pereira da silva\",55, \"mauro@email.com\",\"Rua Leila Diniz, 798\",\"Independencia\",\"Petropolis\",\"25645410\",\"RJ\",\"Brasil\"),\n",
    "    (\"ethelyn helena\", \"c. pereira da silva\", 19, \"ethelyn@email.com\",\"Estr. Luis Gomes da Silva, 714\",\"Correas\",\"Petropolis\",\"25720020\",\"RJ\",\"Brasil\"),\n",
    "    (\"evelin\", \"c. pereira da silva\", 15, \"evelin@email.com\",\"Estr. Luis Gomes da Silva, 714\",\"Correas\",\"Petropolis\",\"25720020\",\"RJ\",\"Brasil\"),\n",
    "    (\"everton cristian\",  \"c. pereira da silva\", 22, \"everton@email.com\",\"Estr. Luis Gomes da Silva, 714\",\"Correas\",\"Petropolis\",\"25720020\",\"RJ\",\"Brasil\"),\n",
    "    (\"andreia cristina\",  \"de moares\", 29, \"andreia@email.com\",\"Estr. Luis Gomes da Silva, 714\",\"Correas\",\"Petropolis\",\"25720020\",\"RJ\",\"Brasil\"),\n",
    "]\n",
    "\n",
    "# Definição do Schema\n",
    "schema = StructType([\n",
    "    StructField(\"nome\", StringType(), False),\n",
    "    StructField(\"sobrenome\", StringType(), False),\n",
    "    StructField(\"idade\",IntegerType(), False),\n",
    "    StructField(\"e-mail\", StringType(), False),\n",
    "    StructField(\"Rua\", StringType(), False),\n",
    "    StructField(\"Bairro\",StringType(), False),\n",
    "    StructField(\"Cidade\",StringType(), False),\n",
    "    StructField(\"Cep\",StringType(), False),\n",
    "    StructField(\"Estado\",StringType(), False),\n",
    "    StructField(\"Pais\",StringType(), False)\n",
    "])\n",
    "\n",
    "# Criando um DataFrame com o arry de dados\n",
    "df = spark.createDataFrame(dados,schema)\n",
    "\n",
    "# Mostrando o DataFrame\n",
    "df.show()"
   ]
  },
  {
   "cell_type": "code",
   "execution_count": 226,
   "metadata": {},
   "outputs": [
    {
     "name": "stdout",
     "output_type": "stream",
     "text": [
      "+-----------+----------------+-----+---------------+--------------------+-------------+----------+--------+------+------+\n",
      "|       nome|       sobrenome|idade|         e-mail|                 Rua|       Bairro|    Cidade|     Cep|Estado|  Pais|\n",
      "+-----------+----------------+-----+---------------+--------------------+-------------+----------+--------+------+------+\n",
      "|mauro lucio|pereira da silva|   55|mauro@email.com|Rua Leila Diniz, 798|Independencia|Petropolis|25645410|    RJ|Brasil|\n",
      "+-----------+----------------+-----+---------------+--------------------+-------------+----------+--------+------+------+\n",
      "\n"
     ]
    }
   ],
   "source": [
    "# Filtrando colunas\n",
    "filtered_df = df.filter(df['nome'] == \"mauro lucio\")\n",
    "filtered_df.show()"
   ]
  },
  {
   "cell_type": "code",
   "execution_count": 227,
   "metadata": {},
   "outputs": [
    {
     "name": "stdout",
     "output_type": "stream",
     "text": [
      "+----------------+----------+\n",
      "|            nome|avg(idade)|\n",
      "+----------------+----------+\n",
      "|     mauro lucio|      55.0|\n",
      "|  ethelyn helena|      19.0|\n",
      "|          evelin|      15.0|\n",
      "|andreia cristina|      29.0|\n",
      "|everton cristian|      22.0|\n",
      "+----------------+----------+\n",
      "\n"
     ]
    }
   ],
   "source": [
    "# Agrupar e calcular a média agregada\n",
    "grouped_df = df.groupBy(\"nome\").agg({\"idade\":\"avg\"})\n",
    "grouped_df.show()"
   ]
  },
  {
   "cell_type": "code",
   "execution_count": 228,
   "metadata": {},
   "outputs": [
    {
     "name": "stdout",
     "output_type": "stream",
     "text": [
      "Número de registros do DataFame: 5\n"
     ]
    }
   ],
   "source": [
    "# Número de registros do DataFrame\n",
    "print(f'Número de registros do DataFame: {df.count()}')"
   ]
  },
  {
   "cell_type": "code",
   "execution_count": 229,
   "metadata": {},
   "outputs": [
    {
     "data": {
      "text/plain": [
       "Row(nome='mauro lucio', sobrenome='pereira da silva', idade=55, e-mail='mauro@email.com', Rua='Rua Leila Diniz, 798', Bairro='Independencia', Cidade='Petropolis', Cep='25645410', Estado='RJ', Pais='Brasil')"
      ]
     },
     "execution_count": 229,
     "metadata": {},
     "output_type": "execute_result"
    }
   ],
   "source": [
    "# Primeira linha do DataFrame\n",
    "df.first()"
   ]
  },
  {
   "cell_type": "code",
   "execution_count": 230,
   "metadata": {},
   "outputs": [
    {
     "name": "stdout",
     "output_type": "stream",
     "text": [
      "+----------------+-------------------+-----+-----------------+--------------------+-------------+----------+--------+------+------+\n",
      "|            nome|          sobrenome|idade|           e-mail|                 Rua|       Bairro|    Cidade|     Cep|Estado|  Pais|\n",
      "+----------------+-------------------+-----+-----------------+--------------------+-------------+----------+--------+------+------+\n",
      "|     mauro lucio|   pereira da silva|   55|  mauro@email.com|Rua Leila Diniz, 798|Independencia|Petropolis|25645410|    RJ|Brasil|\n",
      "|  ethelyn helena|c. pereira da silva|   19|ethelyn@email.com|Estr. Luis Gomes ...|      Correas|Petropolis|25720020|    RJ|Brasil|\n",
      "|          evelin|c. pereira da silva|   15| evelin@email.com|Estr. Luis Gomes ...|      Correas|Petropolis|25720020|    RJ|Brasil|\n",
      "|everton cristian|c. pereira da silva|   22|everton@email.com|Estr. Luis Gomes ...|      Correas|Petropolis|25720020|    RJ|Brasil|\n",
      "+----------------+-------------------+-----+-----------------+--------------------+-------------+----------+--------+------+------+\n",
      "\n"
     ]
    }
   ],
   "source": [
    "# Filtrando onde tem uma palavra\n",
    "linesWithSpark = df.filter(df[\"sobrenome\"].contains(\"pereira\"))\n",
    "linesWithSpark.show()"
   ]
  },
  {
   "cell_type": "code",
   "execution_count": 231,
   "metadata": {},
   "outputs": [
    {
     "name": "stdout",
     "output_type": "stream",
     "text": [
      "O número de ocorrências encontradas foram: 4\n"
     ]
    }
   ],
   "source": [
    "# Contando o núemro de ocorrências de uma palavra\n",
    "countText= df.filter(df[\"sobrenome\"].contains(\"pereira\")).count()\n",
    "print(f\"O número de ocorrências encontradas foram: {countText}\")"
   ]
  },
  {
   "cell_type": "code",
   "execution_count": 232,
   "metadata": {},
   "outputs": [
    {
     "data": {
      "text/plain": [
       "[Row(max(numWords)=4)]"
      ]
     },
     "execution_count": 232,
     "metadata": {},
     "output_type": "execute_result"
    }
   ],
   "source": [
    "# Encontrar a linha com mais palavras\n",
    "# df.select(sf.size(sf.split(df.value,\"\\s+\")).name(\"numWords\")).agg(sf.max(sf.col(\"numWords\"))).collect()\n",
    "\n",
    "# Encontrar a linha com mais palavras na coluna 'sobrenome'\n",
    "df.select(sf.size(sf.split(df[\"sobrenome\"], \"\\s+\")).alias(\"numWords\")).agg(sf.max(sf.col(\"numWords\"))).collect()"
   ]
  },
  {
   "cell_type": "markdown",
   "metadata": {},
   "source": [
    "# Products, Sales and customer"
   ]
  },
  {
   "cell_type": "code",
   "execution_count": 233,
   "metadata": {},
   "outputs": [],
   "source": [
    "# DataFrame customer\n",
    "customer_data = [(\n",
    "    1,\n",
    "    \"ruan jose\",\n",
    "    datetime(1965, 10, 15, 00, 00, 00),\n",
    "    \"ruan_jose@gmail.com\",\n",
    "    datetime(2025, 3, 2, 17, 10, 00),\n",
    ")]"
   ]
  },
  {
   "cell_type": "code",
   "execution_count": 234,
   "metadata": {},
   "outputs": [],
   "source": [
    "schema_customer = StructType([\n",
    "    StructField(\"customer_id\", IntegerType(), False),\n",
    "    StructField(\"name\", StringType(), False),\n",
    "    StructField(\"customer_birthday\", TimestampType(), False),\n",
    "    StructField(\"email\", StringType(), False),\n",
    "    StructField(\"created_at\", TimestampType(), False)\n",
    "])"
   ]
  },
  {
   "cell_type": "code",
   "execution_count": 235,
   "metadata": {},
   "outputs": [
    {
     "name": "stdout",
     "output_type": "stream",
     "text": [
      "+-----------+---------+-------------------+-------------------+-------------------+\n",
      "|customer_id|name     |customer_birthday  |email              |created_at         |\n",
      "+-----------+---------+-------------------+-------------------+-------------------+\n",
      "|1          |ruan jose|1965-10-15 00:00:00|ruan_jose@gmail.com|2025-03-02 17:10:00|\n",
      "+-----------+---------+-------------------+-------------------+-------------------+\n",
      "\n",
      "root\n",
      " |-- customer_id: integer (nullable = false)\n",
      " |-- name: string (nullable = false)\n",
      " |-- customer_birthday: timestamp (nullable = true)\n",
      " |-- email: string (nullable = false)\n",
      " |-- created_at: timestamp (nullable = false)\n",
      "\n"
     ]
    }
   ],
   "source": [
    "# Criando DataFrame com array de dados\n",
    "df_customers = spark.createDataFrame(customer_data, schema_customer)\n",
    "# Convertendo strings de data/hora para TimestampType\n",
    "df_customer = df_customers.withColumn(\"created_at\", sf.to_timestamp(\"created_at\", \"dd-MM-yyyy HH:mm:ss\"))\n",
    "df_customer = df_customers.withColumn(\"customer_birthday\", sf.to_timestamp(\"customer_birthday\", \"dd-MM-yyyy HH:mm:ss\"))\n",
    "# Mostrando o DataFrame\n",
    "df_customers.show(truncate=False)\n",
    "df_customer.printSchema()"
   ]
  },
  {
   "cell_type": "code",
   "execution_count": 236,
   "metadata": {},
   "outputs": [],
   "source": [
    "# Criando dados do DataFrame\n",
    "products_data = [(1,\"notebook sony vaio 15 fz\",\"Notebook VAIO® FE15 Intel® Core™\", Decimal(\"3799.00\"), 38, datetime(2025, 3, 2, 21, 38, 0))]"
   ]
  },
  {
   "cell_type": "code",
   "execution_count": 237,
   "metadata": {},
   "outputs": [],
   "source": [
    "# Criando DataFrame de itens\n",
    "schema_products = StructType([\n",
    "   StructField(\"product_id\", IntegerType(), False),\n",
    "   StructField(\"name\", StringType(), False),\n",
    "   StructField(\"description\", StringType(),False),\n",
    "   StructField(\"price\", DecimalType(10,2), False),\n",
    "   StructField(\"stock\", IntegerType(), False),\n",
    "   StructField(\"created_at\", TimestampType(), False)  \n",
    "])"
   ]
  },
  {
   "cell_type": "code",
   "execution_count": 238,
   "metadata": {},
   "outputs": [
    {
     "name": "stdout",
     "output_type": "stream",
     "text": [
      "+----------+------------------------+--------------------------------+-------+-----+-------------------+\n",
      "|product_id|name                    |description                     |price  |stock|created_at         |\n",
      "+----------+------------------------+--------------------------------+-------+-----+-------------------+\n",
      "|1         |notebook sony vaio 15 fz|Notebook VAIO® FE15 Intel® Core™|3799.00|38   |2025-03-02 21:38:00|\n",
      "+----------+------------------------+--------------------------------+-------+-----+-------------------+\n",
      "\n",
      "root\n",
      " |-- product_id: integer (nullable = false)\n",
      " |-- name: string (nullable = false)\n",
      " |-- description: string (nullable = false)\n",
      " |-- price: decimal(10,2) (nullable = false)\n",
      " |-- stock: integer (nullable = false)\n",
      " |-- created_at: timestamp (nullable = true)\n",
      "\n"
     ]
    }
   ],
   "source": [
    "# Criando um DataFrame com array de dados\n",
    "df_products = spark.createDataFrame(products_data, schema_products)\n",
    "# Convertendo strings de data/hora para TimestampType\n",
    "df_product = df_products.withColumn(\"created_at\", sf.to_timestamp(\"created_at\", \"dd-MM-yyyy HH:mm:ss\") )\n",
    "# Mostrando o DataFrame\n",
    "df_products.show(truncate=False)\n",
    "df_product.printSchema()"
   ]
  },
  {
   "cell_type": "code",
   "execution_count": null,
   "metadata": {},
   "outputs": [],
   "source": [
    "# Schema orders\n",
    "schema_orders = StructType([\n",
    "    StructField(\"order_id\", IntegerType(), False),\n",
    "    StructField(\"customer_id\", IntegerType(), False),\n",
    "    StructField(\"order_date\", TimestampType(), False),\n",
    "    StructField(\"total_price\",DecimalType(10,2), True),\n",
    "    \n",
    "])"
   ]
  },
  {
   "cell_type": "code",
   "execution_count": 240,
   "metadata": {},
   "outputs": [],
   "source": [
    "# Schema\n",
    "schema_sales = StructType([\n",
    "    StructField(\"sale_id\", IntegerType(), False),\n",
    "    StructField(\"order_id\", IntegerType(), False),\n",
    "    StructField(\"item_id\", IntegerType(), False),\n",
    "    StructField(\"customer_id\", IntegerType(), False),\n",
    "    StructField(\"quantity\", IntegerType(), False),\n",
    "    StructField(\"unit_price\", DecimalType(10,2), False),\n",
    "    StructField(\"date_sale\", TimestampType(), False),\n",
    "    StructField(\"status\", StringType(), False)\n",
    "])"
   ]
  },
  {
   "cell_type": "code",
   "execution_count": 239,
   "metadata": {},
   "outputs": [],
   "source": [
    "# DataFrame sales data\n",
    "sales_data =[(1, 1,1,1,10, Decimal(\"3799.00\"), datetime(2025, 2, 27, 10, 25, 0),\"delivered\")]"
   ]
  },
  {
   "cell_type": "code",
   "execution_count": 241,
   "metadata": {},
   "outputs": [
    {
     "name": "stdout",
     "output_type": "stream",
     "text": [
      "+-------+--------+-------+-----------+--------+----------+-------------------+---------+\n",
      "|sale_id|order_id|item_id|customer_id|quantity|unit_price|date_sale          |status   |\n",
      "+-------+--------+-------+-----------+--------+----------+-------------------+---------+\n",
      "|1      |1       |1      |1          |10      |3799.00   |2025-02-27 10:25:00|delivered|\n",
      "+-------+--------+-------+-----------+--------+----------+-------------------+---------+\n",
      "\n",
      "root\n",
      " |-- sale_id: integer (nullable = false)\n",
      " |-- order_id: integer (nullable = false)\n",
      " |-- item_id: integer (nullable = false)\n",
      " |-- customer_id: integer (nullable = false)\n",
      " |-- quantity: integer (nullable = false)\n",
      " |-- unit_price: decimal(10,2) (nullable = false)\n",
      " |-- date_sale: timestamp (nullable = true)\n",
      " |-- status: string (nullable = false)\n",
      "\n"
     ]
    }
   ],
   "source": [
    "# Criando um DataFrame com o array de dados\n",
    "df_sales = spark.createDataFrame(sales_data,schema_sales)\n",
    "# Convertendo strings de data/hora para TimestampType\n",
    "df_sale = df_sales.withColumn(\"date_sale\", sf.to_timestamp(\"date_sale\", \"dd-MM-yyyy HH:mm:ss\") )\n",
    "# Mostrando o DataFrame\n",
    "df_sales.show(truncate=False)\n",
    "df_sale.printSchema()"
   ]
  },
  {
   "cell_type": "code",
   "execution_count": 248,
   "metadata": {},
   "outputs": [],
   "source": [
    "# Schema de orders\n",
    "schema_orders = StructType([\n",
    "    StructField(\"order_id\", IntegerType(), False),\n",
    "    StructField(\"customer_id\", IntegerType(), False),\n",
    "    StructField(\"order_date\", TimestampType(), False),\n",
    "    StructField(\"total_price\", DecimalType(10,2), False),\n",
    "    StructField(\"status\", StringType(), False)\n",
    "])"
   ]
  },
  {
   "cell_type": "code",
   "execution_count": 251,
   "metadata": {},
   "outputs": [
    {
     "name": "stdout",
     "output_type": "stream",
     "text": [
      "+-------+--------+-------+-----------+--------+----------+-------------------+---------+\n",
      "|sale_id|order_id|item_id|customer_id|quantity|unit_price|date_sale          |status   |\n",
      "+-------+--------+-------+-----------+--------+----------+-------------------+---------+\n",
      "|1      |1       |1      |1          |10      |3799.00   |2025-02-27 10:25:00|delivered|\n",
      "+-------+--------+-------+-----------+--------+----------+-------------------+---------+\n",
      "\n",
      "root\n",
      " |-- sale_id: integer (nullable = false)\n",
      " |-- order_id: integer (nullable = false)\n",
      " |-- item_id: integer (nullable = false)\n",
      " |-- customer_id: integer (nullable = false)\n",
      " |-- quantity: integer (nullable = false)\n",
      " |-- unit_price: decimal(10,2) (nullable = false)\n",
      " |-- date_sale: timestamp (nullable = true)\n",
      " |-- status: string (nullable = false)\n",
      "\n"
     ]
    }
   ],
   "source": [
    "# DataFrame de orders\n",
    "orders_data =[(1, 1, datetime(2025, 3,2, 22, 36, 00),Decimal(\"3799.00\"),\"delivered\")]\n",
    "# Convertendo strings de data/hora para TimestampType\n",
    "df_order = df_sales.withColumn(\"date_sale\", sf.to_timestamp(\"date_sale\", \"dd-MM-yyyy HH:mm:ss\") )\n",
    "# Mostrando o DataFrame\n",
    "df_sales.show(truncate=False)\n",
    "df_sale.printSchema()"
   ]
  },
  {
   "cell_type": "code",
   "execution_count": 252,
   "metadata": {},
   "outputs": [
    {
     "name": "stdout",
     "output_type": "stream",
     "text": [
      "+--------+-----------+-------------------+-----------+---------+\n",
      "|order_id|customer_id|order_date         |total_price|status   |\n",
      "+--------+-----------+-------------------+-----------+---------+\n",
      "|1       |1          |2025-03-02 22:36:00|3799.00    |delivered|\n",
      "+--------+-----------+-------------------+-----------+---------+\n",
      "\n",
      "root\n",
      " |-- order_id: integer (nullable = false)\n",
      " |-- customer_id: integer (nullable = false)\n",
      " |-- order_date: timestamp (nullable = true)\n",
      " |-- total_price: decimal(10,2) (nullable = false)\n",
      " |-- status: string (nullable = false)\n",
      "\n"
     ]
    }
   ],
   "source": [
    "# Criando um DataFrame com o array de dados\n",
    "df_orders = spark.createDataFrame(orders_data,schema_orders)\n",
    "# Convertendo strings de data/hora para TimestampType\n",
    "df_order = df_orders.withColumn(\"order_date\", sf.to_timestamp(\"order_date\", \"dd-MM-yyyy HH:mm:ss\") )\n",
    "# Mostrando o DataFrame\n",
    "df_orders.show(truncate=False)\n",
    "df_order.printSchema()"
   ]
  },
  {
   "cell_type": "code",
   "execution_count": null,
   "metadata": {},
   "outputs": [],
   "source": []
  }
 ],
 "metadata": {
  "kernelspec": {
   "display_name": "Python 3 (ipykernel)",
   "language": "python",
   "name": "python3"
  },
  "language_info": {
   "codemirror_mode": {
    "name": "ipython",
    "version": 3
   },
   "file_extension": ".py",
   "mimetype": "text/x-python",
   "name": "python",
   "nbconvert_exporter": "python",
   "pygments_lexer": "ipython3",
   "version": "3.11.5"
  }
 },
 "nbformat": 4,
 "nbformat_minor": 4
}
