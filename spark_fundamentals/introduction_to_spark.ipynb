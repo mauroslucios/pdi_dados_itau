{
 "cells": [
  {
   "cell_type": "markdown",
   "metadata": {},
   "source": [
    "# Introduction to spark \n",
    "<a href=\"https://spark.apache.org/docs/latest/quick-start.html\">Spark Documentation</a>"
   ]
  },
  {
   "cell_type": "code",
   "execution_count": 58,
   "metadata": {},
   "outputs": [
    {
     "name": "stdout",
     "output_type": "stream",
     "text": [
      "Versão do pyspark usada neste jupyter: 3.5.4\n",
      "Versão do python usada neste jupyter: 3.11.5 (main, Sep 11 2023, 13:54:46) [GCC 11.2.0]\n"
     ]
    }
   ],
   "source": [
    "import sys\n",
    "import pandas as pd\n",
    "from pyspark.sql.types import StructType, StructField, StringType, IntegerType\n",
    "from pyspark import SparkContext\n",
    "# Create a SparkContext object\n",
    "from pyspark.sql import SparkSession\n",
    "spark = SparkSession.builder.appName(\"Introduction to spark\").getOrCreate()\n",
    "# Versão do pyspark usada neste jupyter\n",
    "print(f\"Versão do pyspark usada neste jupyter: {spark.version}\")\n",
    "# Versão do python usada neste jupyter\n",
    "print(f\"Versão do python usada neste jupyter: {sys.version}\")"
   ]
  },
  {
   "cell_type": "code",
   "execution_count": 59,
   "metadata": {},
   "outputs": [
    {
     "name": "stdout",
     "output_type": "stream",
     "text": [
      "+----------------+-------------------+-----+-----------------+--------------------+-------------+----------+--------+------+------+\n",
      "|            nome|          sobrenome|idade|           e-mail|                 Rua|       Bairro|    Cidade|     Cep|Estado|  Pais|\n",
      "+----------------+-------------------+-----+-----------------+--------------------+-------------+----------+--------+------+------+\n",
      "|     mauro lucio|   pereira da silva|   55|  mauro@email.com|Rua Leila Diniz, 798|Independencia|Petropolis|25645410|    RJ|Brasil|\n",
      "|  ethelyn helena|c. pereira da silva|   19|ethelyn@email.com|Estr. Luis Gomes ...|      Correas|Petropolis|25720020|    RJ|Brasil|\n",
      "|          evelin|c. pereira da silva|   15| evelin@email.com|Estr. Luis Gomes ...|      Correas|Petropolis|25720020|    RJ|Brasil|\n",
      "|everton cristian|c. pereira da silva|   22|everton@email.com|Estr. Luis Gomes ...|      Correas|Petropolis|25720020|    RJ|Brasil|\n",
      "|andreia cristina|          de moares|   29|andreia@email.com|Estr. Luis Gomes ...|      Correas|Petropolis|25720020|    RJ|Brasil|\n",
      "+----------------+-------------------+-----+-----------------+--------------------+-------------+----------+--------+------+------+\n",
      "\n"
     ]
    }
   ],
   "source": [
    "# Dados criando um array de dados\n",
    "dados = [\n",
    "    (\"mauro lucio\", \"pereira da silva\",55, \"mauro@email.com\",\"Rua Leila Diniz, 798\",\"Independencia\",\"Petropolis\",\"25645410\",\"RJ\",\"Brasil\"),\n",
    "    (\"ethelyn helena\", \"c. pereira da silva\", 19, \"ethelyn@email.com\",\"Estr. Luis Gomes da Silva, 714\",\"Correas\",\"Petropolis\",\"25720020\",\"RJ\",\"Brasil\"),\n",
    "    (\"evelin\", \"c. pereira da silva\", 15, \"evelin@email.com\",\"Estr. Luis Gomes da Silva, 714\",\"Correas\",\"Petropolis\",\"25720020\",\"RJ\",\"Brasil\"),\n",
    "    (\"everton cristian\",  \"c. pereira da silva\", 22, \"everton@email.com\",\"Estr. Luis Gomes da Silva, 714\",\"Correas\",\"Petropolis\",\"25720020\",\"RJ\",\"Brasil\"),\n",
    "    (\"andreia cristina\",  \"de moares\", 29, \"andreia@email.com\",\"Estr. Luis Gomes da Silva, 714\",\"Correas\",\"Petropolis\",\"25720020\",\"RJ\",\"Brasil\"),\n",
    "]\n",
    "\n",
    "# Definição do Schema\n",
    "schema = StructType([\n",
    "    StructField(\"nome\", StringType(), True),\n",
    "    StructField(\"sobrenome\", StringType(), True),\n",
    "    StructField(\"idade\",IntegerType(), True),\n",
    "    StructField(\"e-mail\", StringType(), True),\n",
    "    StructField(\"Rua\", StringType(), True),\n",
    "    StructField(\"Bairro\",StringType(), True),\n",
    "    StructField(\"Cidade\",StringType(), True),\n",
    "    StructField(\"Cep\",StringType(), True),\n",
    "    StructField(\"Estado\",StringType(), True),\n",
    "    StructField(\"Pais\",StringType(), True)\n",
    "])\n",
    "\n",
    "# Criando um DataFrame com o arry de dados\n",
    "df = spark.createDataFrame(dados,schema)\n",
    "\n",
    "# Mostrando o DataFrame\n",
    "df.show()"
   ]
  },
  {
   "cell_type": "code",
   "execution_count": 60,
   "metadata": {},
   "outputs": [
    {
     "name": "stdout",
     "output_type": "stream",
     "text": [
      "+-----------+----------------+-----+---------------+--------------------+-------------+----------+--------+------+------+\n",
      "|       nome|       sobrenome|idade|         e-mail|                 Rua|       Bairro|    Cidade|     Cep|Estado|  Pais|\n",
      "+-----------+----------------+-----+---------------+--------------------+-------------+----------+--------+------+------+\n",
      "|mauro lucio|pereira da silva|   55|mauro@email.com|Rua Leila Diniz, 798|Independencia|Petropolis|25645410|    RJ|Brasil|\n",
      "+-----------+----------------+-----+---------------+--------------------+-------------+----------+--------+------+------+\n",
      "\n"
     ]
    }
   ],
   "source": [
    "# Filtrando colunas\n",
    "filtered_df = df.filter(df['nome'] == \"mauro lucio\")\n",
    "filtered_df.show()"
   ]
  },
  {
   "cell_type": "code",
   "execution_count": 61,
   "metadata": {},
   "outputs": [
    {
     "name": "stdout",
     "output_type": "stream",
     "text": [
      "+----------------+----------+\n",
      "|            nome|avg(idade)|\n",
      "+----------------+----------+\n",
      "|     mauro lucio|      55.0|\n",
      "|  ethelyn helena|      19.0|\n",
      "|          evelin|      15.0|\n",
      "|andreia cristina|      29.0|\n",
      "|everton cristian|      22.0|\n",
      "+----------------+----------+\n",
      "\n"
     ]
    }
   ],
   "source": [
    "# Agrupar e calcular a média agregada\n",
    "grouped_df = df.groupBy(\"nome\").agg({\"idade\":\"avg\"})\n",
    "grouped_df.show()"
   ]
  },
  {
   "cell_type": "code",
   "execution_count": 62,
   "metadata": {},
   "outputs": [
    {
     "data": {
      "text/plain": [
       "5"
      ]
     },
     "execution_count": 62,
     "metadata": {},
     "output_type": "execute_result"
    }
   ],
   "source": [
    "# Número de registros do DataFrame\n",
    "df.count()"
   ]
  },
  {
   "cell_type": "code",
   "execution_count": 63,
   "metadata": {},
   "outputs": [
    {
     "data": {
      "text/plain": [
       "Row(nome='mauro lucio', sobrenome='pereira da silva', idade=55, e-mail='mauro@email.com', Rua='Rua Leila Diniz, 798', Bairro='Independencia', Cidade='Petropolis', Cep='25645410', Estado='RJ', Pais='Brasil')"
      ]
     },
     "execution_count": 63,
     "metadata": {},
     "output_type": "execute_result"
    }
   ],
   "source": [
    "# Primeira linha do DataFrame\n",
    "df.first()"
   ]
  },
  {
   "cell_type": "code",
   "execution_count": 66,
   "metadata": {},
   "outputs": [
    {
     "name": "stdout",
     "output_type": "stream",
     "text": [
      "+----------------+-------------------+-----+-----------------+--------------------+-------------+----------+--------+------+------+\n",
      "|            nome|          sobrenome|idade|           e-mail|                 Rua|       Bairro|    Cidade|     Cep|Estado|  Pais|\n",
      "+----------------+-------------------+-----+-----------------+--------------------+-------------+----------+--------+------+------+\n",
      "|     mauro lucio|   pereira da silva|   55|  mauro@email.com|Rua Leila Diniz, 798|Independencia|Petropolis|25645410|    RJ|Brasil|\n",
      "|  ethelyn helena|c. pereira da silva|   19|ethelyn@email.com|Estr. Luis Gomes ...|      Correas|Petropolis|25720020|    RJ|Brasil|\n",
      "|          evelin|c. pereira da silva|   15| evelin@email.com|Estr. Luis Gomes ...|      Correas|Petropolis|25720020|    RJ|Brasil|\n",
      "|everton cristian|c. pereira da silva|   22|everton@email.com|Estr. Luis Gomes ...|      Correas|Petropolis|25720020|    RJ|Brasil|\n",
      "+----------------+-------------------+-----+-----------------+--------------------+-------------+----------+--------+------+------+\n",
      "\n"
     ]
    }
   ],
   "source": [
    "# Filtrando onde tem uma palavra\n",
    "linesWithSpark = df.filter(df[\"sobrenome\"].contains(\"pereira\"))\n",
    "linesWithSpark.show()"
   ]
  },
  {
   "cell_type": "code",
   "execution_count": null,
   "metadata": {},
   "outputs": [],
   "source": []
  }
 ],
 "metadata": {
  "kernelspec": {
   "display_name": "Python 3 (ipykernel)",
   "language": "python",
   "name": "python3"
  },
  "language_info": {
   "codemirror_mode": {
    "name": "ipython",
    "version": 3
   },
   "file_extension": ".py",
   "mimetype": "text/x-python",
   "name": "python",
   "nbconvert_exporter": "python",
   "pygments_lexer": "ipython3",
   "version": "3.11.5"
  }
 },
 "nbformat": 4,
 "nbformat_minor": 4
}
